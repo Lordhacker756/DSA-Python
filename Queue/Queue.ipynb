{
 "cells": [
  {
   "cell_type": "markdown",
   "metadata": {},
   "source": [
    "# Queue"
   ]
  }
 ],
 "metadata": {
  "kernelspec": {
   "display_name": "Python 3.10.8 64-bit",
   "language": "python",
   "name": "python3"
  },
  "language_info": {
   "name": "python",
   "version": "3.10.8"
  },
  "orig_nbformat": 4,
  "vscode": {
   "interpreter": {
    "hash": "308ad3920a9876ab7dc459a1cb03b01cdb074655bba97a15b266b82a48072fd3"
   }
  }
 },
 "nbformat": 4,
 "nbformat_minor": 2
}
