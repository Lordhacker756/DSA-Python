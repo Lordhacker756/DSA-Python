{
 "cells": [
  {
   "cell_type": "markdown",
   "metadata": {},
   "source": [
    "# Implimenting trees using python"
   ]
  },
  {
   "cell_type": "code",
   "execution_count": 6,
   "metadata": {},
   "outputs": [
    {
     "name": "stdout",
     "output_type": "stream",
     "text": [
      "Nilupul (CEO)\n",
      "   |___Chinmay (CTO)\n",
      "      |___Vishwa (Infrastructure Head)\n",
      "         |___Dhaval (Cloud Manager)\n",
      "         |___Abhijit (App Manager)\n",
      "      |___Aamir (Applicaiton Head\n",
      "   |___Gels (HR Head)\n",
      "      |___Peter (Recruitment Manager)\n",
      "      |___Waqas (Policy Manager)\n"
     ]
    }
   ],
   "source": [
    "class Tree():\n",
    "    def __init__(self, data):\n",
    "        # Tree has three main parts\n",
    "        self.data = data  # The data it stores\n",
    "        self.children = []  # The number of branches a node has\n",
    "        self.parent = None  # The no of parents a node has (Level)\n",
    "\n",
    "    def get_level(self):\n",
    "        # The main idea is to count the number of parents for each level\n",
    "        level = 0\n",
    "        p = self.parent # A seperatre variable is taken so that the levels are not disturbed\n",
    "        while p:  # Jis value pe call kiya agar uska parent hai to\n",
    "            level += 1  # add 1 to level\n",
    "            # update current parent with the parent of parent if there otherwise it will become none\n",
    "            p = p.parent\n",
    "\n",
    "        return level\n",
    "\n",
    "    def print_tree(self):\n",
    "        spaces = ' ' * self.get_level() * 3\n",
    "        # Add decorator only if it has a parent, else it is root hence, no decorator needed\n",
    "        decor = spaces+'|___' if self.parent else ''\n",
    "        print(decor + self.data)\n",
    "        if self.children:\n",
    "            for child in self.children:\n",
    "                child.print_tree()  # The child is passed as the self, hence now his childrens are printed\n",
    "\n",
    "    def add_child(self, child):\n",
    "        child.parent = self  # jiske repect me call hua wo parent, and value becomes it's childrens\n",
    "        self.children.append(child)\n",
    "\n",
    "\n",
    "def build_tree():\n",
    "    # Added the root node\n",
    "    Company = Tree(\"Nilupul (CEO)\")\n",
    "    # We'll add CTO and HR under CEO later\n",
    "\n",
    "    # Now need to add people under him\n",
    "    CTO = Tree(\"Chinmay (CTO)\")\n",
    "\n",
    "    # Creating infrahead tree\n",
    "    # ⚠ Every node in itself a tree not a string\n",
    "    InfraHead = Tree(\"Vishwa (Infrastructure Head)\")\n",
    "    InfraHead.add_child(Tree(\"Dhaval (Cloud Manager)\"))\n",
    "    InfraHead.add_child(Tree(\"Abhijit (App Manager)\"))\n",
    "\n",
    "    # Now creating Application head tree\n",
    "    Application = Tree(\"Aamir (Applicaiton Head\")\n",
    "\n",
    "    # Add application head and Infrahead under CTO\n",
    "    CTO.add_child(InfraHead)\n",
    "    CTO.add_child(Application)\n",
    "\n",
    "    # HR Head tree\n",
    "    HR_head = Tree(\"Gels (HR Head)\")\n",
    "\n",
    "    HR_head.add_child(Tree(\"Peter (Recruitment Manager)\"))\n",
    "    HR_head.add_child(Tree(\"Waqas (Policy Manager)\"))\n",
    "\n",
    "    # Adding CTO and HR Head under CEO\n",
    "    Company.add_child(CTO)\n",
    "    Company.add_child(HR_head)\n",
    "\n",
    "    Company.print_tree()\n",
    "\n",
    "\n",
    "if __name__ == '__main__':\n",
    "    build_tree()\n"
   ]
  },
  {
   "cell_type": "markdown",
   "metadata": {},
   "source": [
    "## Key Points"
   ]
  },
  {
   "cell_type": "markdown",
   "metadata": {},
   "source": [
    "- Every child is a **Node** in itself, you don't append it as a string, rather an object of class Tree\n",
    "- You call a function inside the main function where \"__name__\" == \"\"__main__\"\n",
    "- "
   ]
  }
 ],
 "metadata": {
  "kernelspec": {
   "display_name": "Python 3.10.8 64-bit",
   "language": "python",
   "name": "python3"
  },
  "language_info": {
   "codemirror_mode": {
    "name": "ipython",
    "version": 3
   },
   "file_extension": ".py",
   "mimetype": "text/x-python",
   "name": "python",
   "nbconvert_exporter": "python",
   "pygments_lexer": "ipython3",
   "version": "3.10.8"
  },
  "orig_nbformat": 4,
  "vscode": {
   "interpreter": {
    "hash": "308ad3920a9876ab7dc459a1cb03b01cdb074655bba97a15b266b82a48072fd3"
   }
  }
 },
 "nbformat": 4,
 "nbformat_minor": 2
}
