{
 "cells": [
  {
   "cell_type": "markdown",
   "metadata": {},
   "source": [
    "# Binary Tree"
   ]
  },
  {
   "cell_type": "markdown",
   "metadata": {},
   "source": [
    "- There are atmost 2 nodes in Binary Tree\n",
    "- It **Doesn't** store duplicates"
   ]
  },
  {
   "cell_type": "markdown",
   "metadata": {},
   "source": [
    "### Traversal Techniques\n",
    "There are two types of traversal in a tree, Breadth first search and Depth first search. We are going to discuss, Depth for search first"
   ]
  },
  {
   "cell_type": "markdown",
   "metadata": {},
   "source": [
    "#### Depth first search\n",
    "- In order traversal\n",
    "- Pre order traversal\n",
    "- Post order traversal"
   ]
  },
  {
   "cell_type": "markdown",
   "metadata": {},
   "source": [
    "![](Binary%20Tree%20Part%201%20%20BST%20%20Binary%20Search%20Tree%20-%20Data%20Structures%20%26%20Algorithms%20Tutorials%20In%20Python%20%2310%20-%20YouTube.png/)"
   ]
  },
  {
   "cell_type": "markdown",
   "metadata": {},
   "source": [
    "**We always visit left subtree first, if left is not there then only we see right ie we go deeper till we get left, then shift to right then go out**\n",
    "\n",
    "When root node is present in center, it's referred to as **In-order**\n",
    "When root node is at the starting, it's **Pre-Order** and when it's at the end, it's referred to as **Post-Order**"
   ]
  },
  {
   "cell_type": "markdown",
   "metadata": {},
   "source": [
    "## Implimentation Using Python"
   ]
  },
  {
   "cell_type": "code",
   "execution_count": 6,
   "metadata": {},
   "outputs": [
    {
     "name": "stdout",
     "output_type": "stream",
     "text": [
      "--------IN ORDER TRAVERSAL---------\n",
      "[7, 12, 14, 15, 20, 23, 27, 88]\n",
      "--------PRE ORDER TRAVERSAL---------\n",
      "[7, 12, 14, 15, 20, 23, 27, 88]\n",
      "--------POST ORDER TRAVERSAL---------\n",
      "[88, 27, 23, 20, 15, 14, 12, 7]\n",
      "Max Element is  88\n",
      "Min Element is  7\n",
      "Sum is  206\n"
     ]
    }
   ],
   "source": [
    "class TreeNode:\n",
    "    def __init__(self,data):\n",
    "        self.data = data\n",
    "        self.left = None\n",
    "        self.right = None\n",
    "\n",
    "    def addChild(self, data):\n",
    "        #Remember binary search tree doesn't contain duplicates, if the value is already present, return back\n",
    "        if data == self.data:\n",
    "            return\n",
    "        \n",
    "        #If the data entered is less than the current node, add it to it's left\n",
    "        if data<self.data:\n",
    "            #now there are two cases, one is that the current node has no further node or there are more nodes\n",
    "            if self.left:\n",
    "                #If there is a left node, we need to go deeper and perform all the checking of data being greater or less than the data at that node, hence we call the add child function on the next node, hence, we moved down in the tree\n",
    "                self.left.addChild(data)\n",
    "            else:\n",
    "                #There was no node, hence we made one with the given data, as we have already checked if the given data was left or not so we need not worry about anything else\n",
    "                self.left = TreeNode(data)\n",
    "\n",
    "        #If the data entered is greater than current node then add it to the right side\n",
    "        else:\n",
    "            if self.right:\n",
    "                #There is one more right node, go deeper\n",
    "                self.right.addChild(data)\n",
    "\n",
    "            else:\n",
    "                #We can add it to the rigth part (We are not adding it to the left, all the equality is handled beforehand. If it had been less it would have gone to addleft part above rather than coming here, so if the code is here, relax)\n",
    "                self.right = TreeNode(data)\n",
    "    \n",
    "    def inOrderTraversal(self):\n",
    "        # We are going to go from left to right\n",
    "        elements = []\n",
    "\n",
    "        # First we are going all the way down left till we are out of node\n",
    "        if self.left:\n",
    "            elements += self.left.inOrderTraversal()\n",
    "        \n",
    "        #Now inserting the root node\n",
    "        elements.append(self.data)\n",
    "\n",
    "        # Checking right sub tree\n",
    "        if self.right:\n",
    "            elements += self.right.inOrderTraversal()\n",
    "\n",
    "        return elements\n",
    "\n",
    "    def preOrderTraversal(self):\n",
    "        #In pre order traversal, first root node is traversed then left then right\n",
    "        elements = []\n",
    "\n",
    "        elements.append(self.data)\n",
    "\n",
    "        if self.left:\n",
    "            elements+=self.left.preOrderTraversal()\n",
    "\n",
    "        if self.right:\n",
    "            elements+=self.right.preOrderTraversal()\n",
    "\n",
    "        return elements\n",
    "\n",
    "    def postOrderTraversal(self):\n",
    "        elements = []\n",
    "\n",
    "        # In post order traversal, we traverse the root node at the last\n",
    "\n",
    "        if self.left:\n",
    "            elements += self.left.postOrderTraversal()\n",
    "        \n",
    "        if self.right:\n",
    "            elements += self.right.postOrderTraversal()\n",
    "\n",
    "        elements.append(self.data)\n",
    "\n",
    "        return elements\n",
    "\n",
    "    def findMax(self):\n",
    "        max = -1000\n",
    "        elem = self.inOrderTraversal()\n",
    "        elem.sort()\n",
    "        return elem[-1]\n",
    "\n",
    "    def findMin(self):\n",
    "        min = 1000\n",
    "        elem = self.inOrderTraversal()\n",
    "        elem.sort()\n",
    "        return elem[0]\n",
    "\n",
    "    def findSum(self):\n",
    "        elem = self.inOrderTraversal()\n",
    "        return sum(elem)\n",
    "\n",
    "def buildTree(elements):\n",
    "        #Create the root node first\n",
    "        root = TreeNode(elements[0])\n",
    "\n",
    "        #Now add the remaining elements\n",
    "        for val in range(1, len(elements)):\n",
    "            root.addChild(elements[val])\n",
    "\n",
    "        return root\n",
    "\n",
    "\n",
    "\n",
    "if __name__ == \"__main__\":\n",
    "    treeData = [7,12,14,15,20,23,27,88]\n",
    "    #We don't need to have an instance of the Tree Class, we can directly traverse it by the tree object returned by the buildTree function\n",
    "    tree = buildTree(treeData)\n",
    "    print(\"--------IN ORDER TRAVERSAL---------\")\n",
    "    print(tree.inOrderTraversal())\n",
    "    print(\"--------PRE ORDER TRAVERSAL---------\")\n",
    "    print(tree.preOrderTraversal())\n",
    "    print(\"--------POST ORDER TRAVERSAL---------\")\n",
    "    print(tree.postOrderTraversal())\n",
    "    print(\"Max Element is \",tree.findMax())\n",
    "    print(\"Min Element is \",tree.findMin())\n",
    "    print(\"Sum is \",tree.findSum())\n",
    "    \n",
    "    \n",
    "\n",
    "            "
   ]
  },
  {
   "cell_type": "code",
   "execution_count": null,
   "metadata": {},
   "outputs": [],
   "source": []
  }
 ],
 "metadata": {
  "kernelspec": {
   "display_name": "Python 3.10.8 64-bit",
   "language": "python",
   "name": "python3"
  },
  "language_info": {
   "codemirror_mode": {
    "name": "ipython",
    "version": 3
   },
   "file_extension": ".py",
   "mimetype": "text/x-python",
   "name": "python",
   "nbconvert_exporter": "python",
   "pygments_lexer": "ipython3",
   "version": "3.10.8"
  },
  "orig_nbformat": 4,
  "vscode": {
   "interpreter": {
    "hash": "308ad3920a9876ab7dc459a1cb03b01cdb074655bba97a15b266b82a48072fd3"
   }
  }
 },
 "nbformat": 4,
 "nbformat_minor": 2
}
